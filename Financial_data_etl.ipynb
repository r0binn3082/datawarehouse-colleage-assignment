{
 "cells": [
  {
   "cell_type": "markdown",
   "metadata": {},
   "source": [
    "<H1> The ETL for The DataWareHouse</H"
   ]
  },
  {
   "cell_type": "code",
   "execution_count": 23,
   "metadata": {},
   "outputs": [],
   "source": [
    "import yfinance as yf #the API used to extract data from the internet\n",
    "import pandas as pd"
   ]
  },
  {
   "cell_type": "markdown",
   "metadata": {},
   "source": [
    "<H2>Exracting data for Apple company </H2>"
   ]
  },
  {
   "cell_type": "code",
   "execution_count": 24,
   "metadata": {},
   "outputs": [
    {
     "name": "stderr",
     "output_type": "stream",
     "text": [
      "[*********************100%***********************]  1 of 1 completed\n"
     ]
    }
   ],
   "source": [
    "# Download AAPL stock data for the last 10 years (you can adjust the period)\n",
    "aapl_data = yf.download(\"AAPL\", start=\"2013-12-31\", end=\"2024-01-01\")\n",
    "aapl_data.to_csv('AAPL_stock_data.csv') # Save the data to a CSV file\n",
    "\n",
    "# Download AAPL dividends data\n",
    "aapl_dividends = yf.Ticker(\"AAPL\").dividends\n",
    "aapl_dividends = aapl_dividends[aapl_dividends.index >= '2014-01-01'] \n",
    "aapl_dividends.to_csv('AAPL_dividends.csv')"
   ]
  },
  {
   "cell_type": "code",
   "execution_count": 25,
   "metadata": {},
   "outputs": [],
   "source": [
    "prices = pd.read_csv('AAPL_stock_data.csv') # Load the stock price data (AAPL)\n",
    "dividends = pd.read_csv('AAPL_dividends.csv') # Load the dividends data (AAPL)\n"
   ]
  },
  {
   "cell_type": "markdown",
   "metadata": {},
   "source": [
    "<H3>Exploring the data in our data set </H3>"
   ]
  },
  {
   "cell_type": "code",
   "execution_count": 26,
   "metadata": {},
   "outputs": [
    {
     "name": "stdout",
     "output_type": "stream",
     "text": [
      "The Data Types inside prices \n",
      " Price        object\n",
      "Adj Close    object\n",
      "Close        object\n",
      "High         object\n",
      "Low          object\n",
      "Open         object\n",
      "Volume       object\n",
      "dtype: object\n",
      "The Data Types inside dividends\n",
      "Date          object\n",
      "Dividends    float64\n",
      "dtype: object\n",
      "Price        0\n",
      "Adj Close    1\n",
      "Close        1\n",
      "High         1\n",
      "Low          1\n",
      "Open         1\n",
      "Volume       1\n",
      "dtype: int64\n",
      "Date         0\n",
      "Dividends    0\n",
      "dtype: int64\n",
      "0\n",
      "0\n"
     ]
    }
   ],
   "source": [
    "print(\"The Data Types inside prices \\n\",prices.dtypes) #prints the datatype of every coulmn \n",
    "print(\"The Data Types inside dividends\")\n",
    "print(dividends.dtypes)\n",
    "\n",
    "#check for nulls, duplicates  \n",
    "print(prices.isnull().sum())\n",
    "print(dividends.isnull().sum())\n",
    "\n",
    "print(prices.duplicated().sum())\n",
    "print(dividends.duplicated().sum())\n"
   ]
  },
  {
   "cell_type": "markdown",
   "metadata": {},
   "source": [
    "<H2> Transforming Data </H2>"
   ]
  },
  {
   "cell_type": "code",
   "execution_count": 27,
   "metadata": {},
   "outputs": [],
   "source": [
    "# Drop the first two rows from the prices and divedins dataset\n",
    "prices = prices.drop([0, 1])\n",
    "dividends = dividends.drop([0, 1])\n",
    "\n",
    "# Reset the index of both datasets and rename wht we need \n",
    "prices.reset_index(drop=True, inplace=True)\n",
    "dividends.reset_index(drop=True, inplace=True)\n",
    "prices.rename(columns={'Price' : 'Date'}, inplace=True)\n",
    "prices.rename(columns={'Adj Close' : 'Adj_Close'}, inplace=True)\n",
    "\n",
    "# Convert the 'Date' column to a valid MySQL-compatible date format\n",
    "prices['Date'] = pd.to_datetime(prices['Date'], errors='coerce')  # Convert to datetime\n",
    "prices['Date'] = prices['Date'].dt.strftime('%Y-%m-%d')  # Format as 'YYYY-MM-DD'\n",
    "\n",
    "# Check for invalid dates and remove them if necessary\n",
    "if prices['Date'].isnull().any():\n",
    "    print(\"Found invalid dates. Dropping them...\")\n",
    "    prices = prices.dropna(subset=['Date'])\n"
   ]
  },
  {
   "cell_type": "markdown",
   "metadata": {},
   "source": [
    "<H2> Load data into csv To feed them in MySQL datawarehouse</H2>"
   ]
  },
  {
   "cell_type": "code",
   "execution_count": 28,
   "metadata": {},
   "outputs": [],
   "source": [
    "dividends.to_csv('AAPL_dividends_cleaned.csv', index=False)\n",
    "prices.to_csv('AAPL_stock_data_cleaned.csv', index=False)"
   ]
  }
 ],
 "metadata": {
  "kernelspec": {
   "display_name": "datawarehouse",
   "language": "python",
   "name": "python3"
  },
  "language_info": {
   "codemirror_mode": {
    "name": "ipython",
    "version": 3
   },
   "file_extension": ".py",
   "mimetype": "text/x-python",
   "name": "python",
   "nbconvert_exporter": "python",
   "pygments_lexer": "ipython3",
   "version": "3.11.11"
  }
 },
 "nbformat": 4,
 "nbformat_minor": 2
}
